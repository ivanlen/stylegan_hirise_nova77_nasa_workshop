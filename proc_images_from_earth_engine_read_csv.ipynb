{
 "cells": [
  {
   "cell_type": "markdown",
   "metadata": {},
   "source": [
    "##### useful stuff\n",
    "- [export function](https://gis.stackexchange.com/questions/327839/export-multiple-images-in-one-task-gee-python-api)"
   ]
  },
  {
   "cell_type": "code",
   "execution_count": null,
   "metadata": {},
   "outputs": [],
   "source": [
    "%config Completer.use_jedi = False"
   ]
  },
  {
   "cell_type": "code",
   "execution_count": null,
   "metadata": {},
   "outputs": [],
   "source": [
    "import cv2\n",
    "import ee\n",
    "import matplotlib.pyplot as plt\n",
    "import numpy as np\n",
    "import os\n",
    "import pandas as pd\n",
    "from uuid import uuid4\n",
    "from tqdm import tqdm"
   ]
  },
  {
   "cell_type": "code",
   "execution_count": null,
   "metadata": {
    "scrolled": false
   },
   "outputs": [],
   "source": [
    "ee.Authenticate()"
   ]
  },
  {
   "cell_type": "code",
   "execution_count": null,
   "metadata": {},
   "outputs": [],
   "source": [
    "ee.Initialize()"
   ]
  },
  {
   "cell_type": "code",
   "execution_count": null,
   "metadata": {},
   "outputs": [],
   "source": [
    "def get_center_from_image_info(im_info):\n",
    "    coords = im_info['properties']['system:footprint']['coordinates']\n",
    "    #bottom-left\n",
    "    bl = sorted(coords, key = lambda y: (y[0], y[1]))[0]\n",
    "    tr = sorted(coords, key = lambda y: (y[0], y[1]))[-1]\n",
    "    br = sorted(coords, key = lambda y: (y[1], y[0]))[0]\n",
    "    tl = sorted(coords, key = lambda y: (y[1], y[0]))[-1]\n",
    "    c = np.mean([bl ,tr, br, tl], axis=0 )\n",
    "    return c\n",
    "\n",
    "def compute_bands_perc(im, perc):\n",
    "    min_perc = im.select(['B4', 'B3', 'B2']).reduceRegion(\n",
    "        reducer=ee.Reducer.percentile([perc]), \n",
    "        geometry=im.geometry(),\n",
    "        bestEffort=True).getInfo()\n",
    "    max_perc = im.select(['B4', 'B3', 'B2']).reduceRegion(\n",
    "        reducer=ee.Reducer.percentile([100-perc]), \n",
    "        geometry=im.geometry(),\n",
    "        bestEffort=True).getInfo()\n",
    "    perc = {'min': min_perc, 'max': max_perc}\n",
    "    return perc\n",
    "\n",
    "def compute_viz_params(im, perc=2):\n",
    "    bands_perc = compute_bands_perc(im, perc)\n",
    "    band_min = np.min(list(bands_perc['min'].values()))\n",
    "    band_max = np.max(list(bands_perc['max'].values()))\n",
    "    viz_params = {\n",
    "        'bands':ee.List([\"B4\", \"B3\", \"B2\"]),\n",
    "        'min': band_min,\n",
    "        'max': band_max}\n",
    "    return viz_params\n",
    "\n",
    "def compute_bands_sigma(im, n_std=1, keys=['B4', 'B3', 'B2']):\n",
    "    mean = im.select(keys).reduceRegion(\n",
    "        reducer=ee.Reducer.mean(), \n",
    "        geometry=im.geometry(),\n",
    "        bestEffort=True).getInfo()\n",
    "    std = im.select(keys).reduceRegion(\n",
    "        reducer=ee.Reducer.stdDev(), \n",
    "        geometry=im.geometry(),\n",
    "        bestEffort=True).getInfo()\n",
    "    mins = {k: mean[k] - std[k] * n_std for k in keys}\n",
    "    maxs = {k: mean[k] + std[k] * n_std for k in keys}\n",
    "    return {'min': mins, 'max': maxs}\n",
    "\n",
    "def compute_viz_params_sigma(im, sigma=1):\n",
    "    bands_perc = compute_bands_sigma(im, sigma)\n",
    "    band_min = np.min(list(bands_perc['min'].values()))\n",
    "    band_max = np.max(list(bands_perc['max'].values()))\n",
    "    viz_params = {\n",
    "        'bands':ee.List([\"B4\", \"B3\", \"B2\"]),\n",
    "        'min': band_min,\n",
    "        'max': band_max}\n",
    "    return viz_params\n",
    "\n",
    "def extend_point_to_square(p, d=1):\n",
    "    rect = []\n",
    "    for i in [1, -1]:\n",
    "        for j in [1, -1]:\n",
    "            rect.append([p[0] + i, p[1] + j])\n",
    "    rect.append([p[0] + 1, p[1] + 1])\n",
    "    return rect\n",
    "\n",
    "def list_square_to_polygon(rect):\n",
    "    geomtry_rect = ee.Geometry.Polygon(ee.List([ee.List(x) for x in rect]))\n",
    "    return geomtry_rect"
   ]
  },
  {
   "cell_type": "markdown",
   "metadata": {},
   "source": [
    "## Single sample test"
   ]
  },
  {
   "cell_type": "markdown",
   "metadata": {},
   "source": [
    "## Iterate over list of places"
   ]
  },
  {
   "cell_type": "markdown",
   "metadata": {},
   "source": [
    "### missing\n",
    "- filter by dates: if there are already 1/2 pictures closer to that point skip all the others.\n",
    "- filter by position: if there are closes matches, skip the frames"
   ]
  },
  {
   "cell_type": "code",
   "execution_count": null,
   "metadata": {},
   "outputs": [],
   "source": [
    "def no_samples_exception(e):\n",
    "    return 'must be positive. Got: 0.' in str(e)\n",
    "\n",
    "def compute_min_distance_to_samples(im_cent, df, key='center_coords'):\n",
    "    if len(df):\n",
    "        d = df[key].apply(lambda x: np.linalg.norm(x-im_cent))\n",
    "        return np.min(d)\n",
    "    else:\n",
    "        return np.inf\n",
    "\n",
    "def filter_unique_image_id_for_list(col_list_info):\n",
    "    added_sat = []\n",
    "    added_id = []\n",
    "    added_i = []    \n",
    "    for i, c in enumerate(col_list_info):\n",
    "        im_sat_id = c['id'].split('/')[-1].split('_')[1]\n",
    "        if im_sat_id not in added_sat:\n",
    "            added_id.append(c)\n",
    "            added_sat.append(im_sat_id)\n",
    "            added_i.append(i)\n",
    "    print(f' filtered unique sats{len(added_id)}/{len(col_list_info)}')\n",
    "    return added_i, added_id, added_sat\n",
    "    \n",
    "    \n",
    "def check_if_downloaded(download_path, s_id):\n",
    "    downloaded_ids = [x.split('.')[0] for x in os.listdir(download_path)]\n",
    "#     print(f'total_downloaded:         {len(downloaded_ids)}')    \n",
    "#     print(f'total_downloaded in proc: {np.sum(is_downloaded)}')        \n",
    "#     is_downloaded = [s.name in downloaded_ids for _, s in df.iterrows()]\n",
    "#     return is_downloaded, downloaded_ids\n",
    "    is_downloaded = s_id in downloaded_ids\n",
    "    return is_downloaded\n",
    "\n",
    "class MaxExports(Exception):\n",
    "    def __init__(self, message=\"Max exports reached\"):\n",
    "        self.message = message\n",
    "        super().__init__(self.message)\n",
    "    "
   ]
  },
  {
   "cell_type": "code",
   "execution_count": null,
   "metadata": {},
   "outputs": [],
   "source": [
    "download_path = '/data/datasets/earth_images/raw_sea/'\n",
    "proc_data_f_name = './proc_data_sea.json'\n",
    "proc_data = pd.DataFrame() if not os.path.exists(proc_data_f_name) else pd.read_json(proc_data_f_name)"
   ]
  },
  {
   "cell_type": "code",
   "execution_count": null,
   "metadata": {},
   "outputs": [],
   "source": [
    "proc_data"
   ]
  },
  {
   "cell_type": "code",
   "execution_count": null,
   "metadata": {},
   "outputs": [],
   "source": [
    "check_dowloaded = [check_if_downloaded(download_path, x.name) for _, x in proc_data.iterrows()]\n",
    "total_downloaded = np.sum(check_dowloaded)\n",
    "print(f'downloaded : {total_downloaded}/{len(proc_data)}')"
   ]
  },
  {
   "cell_type": "code",
   "execution_count": null,
   "metadata": {},
   "outputs": [],
   "source": [
    "proc_data = proc_data[check_dowloaded]\n",
    "proc_data.shape\n",
    "proc_data.to_json(proc_data_f_name)"
   ]
  },
  {
   "cell_type": "code",
   "execution_count": null,
   "metadata": {},
   "outputs": [],
   "source": [
    "# queries = pd.read_csv('./bigqueries/bq-pacific-results-20210528-152231-yl0b4vrxmse0.csv') # done!\n",
    "# queries = pd.read_csv('./bigqueries/bq-south-atlantic-results-20210528-153242-fsdvmae1sfzm.csv') # done\n",
    "# queries = pd.read_csv('./bigqueries/bq-indic-results-20210528-152727-wskd3lmyrlgb.csv') # done\n",
    "queries = pd.read_csv('./bigqueries/bq-north-atlantic-results-20210530-115218-hw0b5ee061u5.csv') # done\n",
    "# queries.sort_values('cloud_cover')\n",
    "# queries.sort_values(['wrs_path', 'wrs_row'])"
   ]
  },
  {
   "cell_type": "code",
   "execution_count": null,
   "metadata": {},
   "outputs": [],
   "source": [
    "sea_filteded = []\n",
    "unique_path_row = queries[['wrs_path', 'wrs_row']].drop_duplicates()\n",
    "for pr in unique_path_row.values:\n",
    "    fq = queries[(queries['wrs_path']==pr[0]) & (queries['wrs_row']==pr[1])].sort_values('cloud_cover')\n",
    "    sea_filteded.append(fq.iloc[0])\n",
    "sea_filteded = pd.DataFrame(sea_filteded).reset_index(drop=True)    "
   ]
  },
  {
   "cell_type": "code",
   "execution_count": null,
   "metadata": {},
   "outputs": [],
   "source": [
    "sea_filteded.shape"
   ]
  },
  {
   "cell_type": "code",
   "execution_count": null,
   "metadata": {},
   "outputs": [],
   "source": [
    "# for _, entry in sea_filteded.iterrows():\n",
    "#     pid = entry['product_id']\n",
    "#     print(pid)\n",
    "#     pids = pid.split('_')\n",
    "#     im_full_id = f'LANDSAT/LC08/C{pids[5]}/{pids[6]}/LC08_{pids[2]}_{pids[3]}'\n",
    "#     print(im_full_id)"
   ]
  },
  {
   "cell_type": "code",
   "execution_count": null,
   "metadata": {},
   "outputs": [],
   "source": [
    "im_scale = 30 # landstat 8 has 30\n",
    "max_total_exports = 50\n",
    "min_distance_neigh_thresh = 0.02\n",
    "export_max_pixels = 1e10\n",
    "export_folder = 'earthengine/python'"
   ]
  },
  {
   "cell_type": "code",
   "execution_count": null,
   "metadata": {},
   "outputs": [],
   "source": [
    "counter = 0\n",
    "try:\n",
    "    for _, entry in sea_filteded.iterrows():\n",
    "        pid = entry['product_id']\n",
    "        print(pid)\n",
    "        pids = pid.split('_')\n",
    "        im_full_id = f'LANDSAT/LC08/C{pids[5]}/{pids[6]}/LC08_{pids[2]}_{pids[3]}'\n",
    "        print(im_full_id)\n",
    "        try:\n",
    "            im = ee.Image(im_full_id);\n",
    "            im_info = im.getInfo()\n",
    "            im_cent = get_center_from_image_info(im_info)\n",
    "\n",
    "            # add here to look for if there is something close, and if not add it.\n",
    "            coords = im_info['properties']['system:footprint']['coordinates']\n",
    "            im_id = im.id().getInfo()\n",
    "            min_dist_to_nei = compute_min_distance_to_samples(im_cent, proc_data, 'center_coords')\n",
    "            is_downloaded = check_if_downloaded(download_path, im_id)\n",
    "            print(f'{im_id} is downloaded: {is_downloaded}')\n",
    "            if min_dist_to_nei >= min_distance_neigh_thresh and not is_downloaded:\n",
    "                print(f'{im_id} distance check passed')\n",
    "                im_coords = im_info['properties']['system:footprint']['coordinates']\n",
    "                im_roi = ee.Geometry.Polygon(ee.List([ee.List(x) for x in im_coords]))\n",
    "                viz_params = compute_viz_params_sigma(im, sigma=1)\n",
    "                im_ready = im.visualize(**viz_params)\n",
    "\n",
    "                # preview\n",
    "                # im_ready.getThumbURL(dimensions='512x512')\n",
    "\n",
    "                export_task = ee.batch.Export.image.toDrive(\n",
    "                    im_ready,\n",
    "                    description=im_id,        \n",
    "                    scale=im_scale,\n",
    "                    region=im_roi,\n",
    "                    maxPixels=export_max_pixels,\n",
    "                    folder=export_folder,\n",
    "                )\n",
    "                export_task.start()\n",
    "                export_status = export_task.status()\n",
    "\n",
    "                sample = {\n",
    "                    'id': im_id,\n",
    "                    'center_coords': im_cent,\n",
    "                    'folder': export_folder,\n",
    "                    'min_distance_to_neighbour': min_dist_to_nei,\n",
    "                    'export_status': export_status, \n",
    "                    **im_info['properties']}\n",
    "                proc_data = proc_data.append(pd.Series(sample, name=im_id))\n",
    "                proc_data.to_json(proc_data_f_name)\n",
    "                counter +=1\n",
    "\n",
    "                if counter >= max_total_exports:\n",
    "                    raise MaxExports\n",
    "                print(f' counter: {counter}')\n",
    "        except Exception as e:\n",
    "            if no_samples_exception(e):\n",
    "                print('no samples for params:')\n",
    "                print(str(e))    \n",
    "            if 'Image.load: Image asset' in str(e):\n",
    "                print('image not found!')\n",
    "            else:\n",
    "                raise e\n",
    "        print('_________')\n",
    "except MaxExports:\n",
    "    print('max exports reached, done!')\n",
    "\n",
    "                "
   ]
  }
 ],
 "metadata": {
  "kernelspec": {
   "display_name": "Python 3",
   "language": "python",
   "name": "python3"
  },
  "language_info": {
   "codemirror_mode": {
    "name": "ipython",
    "version": 3
   },
   "file_extension": ".py",
   "mimetype": "text/x-python",
   "name": "python",
   "nbconvert_exporter": "python",
   "pygments_lexer": "ipython3",
   "version": "3.7.7"
  }
 },
 "nbformat": 4,
 "nbformat_minor": 5
}
