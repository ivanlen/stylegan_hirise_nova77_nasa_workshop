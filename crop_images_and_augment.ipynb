{
 "cells": [
  {
   "cell_type": "code",
   "execution_count": 1,
   "metadata": {},
   "outputs": [],
   "source": [
    "%load_ext autoreload\n",
    "%autoreload 2\n",
    "%matplotlib notebook"
   ]
  },
  {
   "cell_type": "code",
   "execution_count": 2,
   "metadata": {},
   "outputs": [],
   "source": [
    "import matplotlib.pyplot as plt\n",
    "import numpy as np\n",
    "import os\n",
    "from PIL import Image\n",
    "\n",
    "from tqdm import tqdm\n",
    "from cropping_functions import *"
   ]
  },
  {
   "cell_type": "code",
   "execution_count": 3,
   "metadata": {},
   "outputs": [],
   "source": [
    "from PIL.ImageOps import flip, mirror\n",
    "import PIL"
   ]
  },
  {
   "cell_type": "code",
   "execution_count": 4,
   "metadata": {},
   "outputs": [],
   "source": [
    "# config variables\n",
    "valid_file_types = ['.jpg'] # ignore other files\n",
    "folder_to_scan = './hirise_scrapped/'\n",
    "\n",
    "cropping_window = 512\n",
    "saving_folder_name = './cropped_files/'\n",
    "padding_tresh = 0.25\n",
    "resize = False\n",
    "image_output_size = 512\n",
    "remove_top_border = True\n",
    "\n",
    "os.makedirs(saving_folder_name, exist_ok=True)"
   ]
  },
  {
   "cell_type": "code",
   "execution_count": 6,
   "metadata": {},
   "outputs": [
    {
     "name": "stdout",
     "output_type": "stream",
     "text": [
      "16\n"
     ]
    }
   ],
   "source": [
    "valid_files = [os.path.join(folder_to_scan, f) for f in os.listdir(folder_to_scan) if os.path.splitext(f)[1] in valid_file_types]\n",
    "print(len(valid_files))"
   ]
  },
  {
   "cell_type": "code",
   "execution_count": 7,
   "metadata": {},
   "outputs": [],
   "source": [
    "def remove_top_border_from_image(file_path):\n",
    "    \"\"\"\n",
    "    use this function to remove top red border from hirise images.\n",
    "    \"\"\"\n",
    "    file_name = os.path.basename(file_path)\n",
    "    base_name, file_ext = os.path.splitext(file_name)\n",
    "    im = Image.open(file_path)\n",
    "\n",
    "    im_w = im.size[0]\n",
    "    im_h = im.size[1]\n",
    "    # delete superior border\n",
    "    imc = im.crop((0,40,im_w,im_h)) #left bottom right upper\n",
    "\n",
    "#     f_name = saving_folder_name + base_name + file_ext\n",
    "#     imc.save(f_name)\n",
    "    return imc"
   ]
  },
  {
   "cell_type": "code",
   "execution_count": 8,
   "metadata": {},
   "outputs": [],
   "source": [
    "def image_square_resize(im_input, new_size):\n",
    "    im = im_input.copy()\n",
    "    im = im.resize((new_size, new_size), PIL.Image.ANTIALIAS)    \n",
    "    \n",
    "    return im\n",
    "\n",
    "\n",
    "def image_shifter(im_input, left_shift, bottom_shift):\n",
    "        shift_box = (left_shift, bottom_shift ,im_input.size[0], im_input.size[1])\n",
    "        return im_input.crop(shift_box)\n",
    "\n",
    "    \n",
    "def image_rotater(im_input, angle):\n",
    "    if angle==90:\n",
    "        return im_input.transpose(Image.ROTATE_90) \n",
    "    elif angle == 180:\n",
    "        return im_input.transpose(Image.ROTATE_180) \n",
    "    elif angle == 270:\n",
    "        return im_input.transpose(Image.ROTATE_270) \n",
    "    elif angle == 0:\n",
    "        return im_input\n",
    "    else:\n",
    "        raise ValueError('No agle supported')\n",
    "        \n",
    "        \n",
    "def image_augmentator(im_input, return_orig = True):\n",
    "    im_aug = []\n",
    "    if return_orig:\n",
    "        im_aug.append(im_input.copy())\n",
    "    # 1.FLIP\n",
    "    im_aug.append(flip(im_input.copy()))\n",
    "    # 2. rot 180\n",
    "    im_aug.append(image_rotater(im_input.copy(), 180))\n",
    "    # 3. Flip(rot_90)\n",
    "    im_aug.append(flip(image_rotater(im_input.copy(), 90)))\n",
    "    # 4. (flip(rot_270))\n",
    "    im_aug.append(flip(image_rotater(im_input.copy(), 270)))\n",
    "    return im_aug     \n",
    "\n",
    "\n",
    "def random_augmentator(im_input, return_orig = True):\n",
    "    im_aug = []\n",
    "    transfm = []\n",
    "    if return_orig:\n",
    "        im_aug.append(im_input.copy())\n",
    "        transfm.append('None')\n",
    "    # 1.FLIP\n",
    "    for i in range(4):\n",
    "        augmented = im_input.copy()\n",
    "        t = ''\n",
    "        if np.random.choice([True, False]):\n",
    "            augmented = flip(augmented)\n",
    "            t += '_flip'\n",
    "        if np.random.choice([True, False]):\n",
    "            augmented = mirror(augmented)\n",
    "            t += '_mirror'\n",
    "        angle = np.random.choice([90, 180, 270])\n",
    "        augmented = image_rotater(augmented, angle)\n",
    "        t += '_{}'.format(angle)\n",
    "        im_aug.append(augmented)\n",
    "        transfm.append(t)\n",
    "    return im_aug, transfm"
   ]
  },
  {
   "cell_type": "markdown",
   "metadata": {},
   "source": [
    "### No augmentation"
   ]
  },
  {
   "cell_type": "code",
   "execution_count": 9,
   "metadata": {},
   "outputs": [],
   "source": [
    "# for file in tqdm(valid_files):\n",
    "#     # load file\n",
    "#     if remove_top_border:\n",
    "#         im = remove_top_border_from_image(file)\n",
    "#     else:\n",
    "#         im = Image.open(file)\n",
    "    \n",
    "#     # generate cropping boxes for file\n",
    "#     croping_boxes = generate_cropping_boxes(im, cropping_window, padding_tresh) \n",
    "#     file_name = os.path.basename(file)\n",
    "#     base_name, file_ext = os.path.splitext(file_name)\n",
    "#     # crop\n",
    "#     for i,b in enumerate(croping_boxes):\n",
    "#         imc = im.crop(b) #left bottom right upper\n",
    "#         if resize: \n",
    "#             imc = image_square_resize(imc,image_output_size )\n",
    "#         f_name = saving_folder_name + base_name +'_{}_'.format(i) + file_ext\n",
    "#         imc.save(f_name)   "
   ]
  },
  {
   "cell_type": "markdown",
   "metadata": {},
   "source": [
    "### Aumentation"
   ]
  },
  {
   "cell_type": "code",
   "execution_count": 10,
   "metadata": {},
   "outputs": [
    {
     "name": "stderr",
     "output_type": "stream",
     "text": [
      "100%|██████████| 16/16 [00:18<00:00,  1.13s/it]\n"
     ]
    }
   ],
   "source": [
    "for file in tqdm(valid_files):\n",
    "    # load file\n",
    "    if remove_top_border:\n",
    "        im = remove_top_border_from_image(file)\n",
    "    else:\n",
    "        im = Image.open(file)\n",
    "    for ia, im in enumerate(image_augmentator(im)): # note that we iterate here over image_augmentator(im).\n",
    "        # generate cropping boxes for file\n",
    "        croping_boxes = generate_cropping_boxes(im, cropping_window, padding_tresh) \n",
    "\n",
    "        file_name = os.path.basename(file)\n",
    "        base_name, file_ext = os.path.splitext(file_name)\n",
    "        for i,b in enumerate(croping_boxes):\n",
    "            imc = im.crop(b) #left bottom right upper\n",
    "            if resize: \n",
    "                imc = image_square_resize(imc,image_output_size )\n",
    "            f_name = saving_folder_name + base_name +'_{}_{}_'.format(ia,i) + file_ext\n",
    "            imc.save(f_name)"
   ]
  }
 ],
 "metadata": {
  "kernelspec": {
   "display_name": "Python 3",
   "language": "python",
   "name": "python3"
  },
  "language_info": {
   "codemirror_mode": {
    "name": "ipython",
    "version": 3
   },
   "file_extension": ".py",
   "mimetype": "text/x-python",
   "name": "python",
   "nbconvert_exporter": "python",
   "pygments_lexer": "ipython3",
   "version": "3.7.7"
  }
 },
 "nbformat": 4,
 "nbformat_minor": 2
}
