{
 "cells": [
  {
   "cell_type": "code",
   "execution_count": null,
   "metadata": {},
   "outputs": [],
   "source": [
    "import numpy as np\n",
    "import os\n",
    "import requests\n",
    "\n",
    "from bs4 import BeautifulSoup\n",
    "from tqdm import tqdm"
   ]
  },
  {
   "cell_type": "code",
   "execution_count": null,
   "metadata": {},
   "outputs": [],
   "source": [
    "image_path = './hirise_scrapped/' # path to save destination\n",
    "os.makedirs(image_path, exist_ok=True)"
   ]
  },
  {
   "cell_type": "code",
   "execution_count": null,
   "metadata": {},
   "outputs": [],
   "source": [
    "url = 'https://hirise-pds.lpl.arizona.edu/PDS/EXTRAS/RDR/ESP/'\n",
    "r = requests.get(url)\n",
    "html = BeautifulSoup(r.content, \"html.parser\")\n",
    "a = html.findAll('a') # anchor elements are all folders\n",
    "\n",
    "random_choices = 1\n",
    "\n",
    "for o_folder in tqdm(a):\n",
    "    folder = o_folder.text\n",
    "\n",
    "    if 'ORB' in folder:\n",
    "        print(folder)\n",
    "        folder_url = url + folder\n",
    "\n",
    "        r2 = requests.get(folder_url)\n",
    "        html2 = BeautifulSoup(r2.content, \"html.parser\")\n",
    "        a2 = html2.findAll('a')\n",
    "        # use this line if you want to add fewer images.\n",
    "#         r2 = np.random.choice([x.text for x in a2], 3)\n",
    "        r2 = [x.text for x in a2]\n",
    "        for sub_folder in r2:\n",
    "            if 'ESP' in sub_folder:\n",
    "                print(sub_folder)\n",
    "                sub_folder_url = folder_url + sub_folder\n",
    "\n",
    "                r3 = requests.get(sub_folder_url)\n",
    "                html3 = BeautifulSoup(r3.content, \"html.parser\")\n",
    "                a3 = html3.findAll('a')\n",
    "                try:\n",
    "                    file_lr = [i.text for i in a3 if '_RGB.NOMAP.browse.jpg' in i.text][0]\n",
    "                    !curl -sS {sub_folder_url+file_lr} > {image_path+file_lr}\n",
    "                    print(f'saved {image_path+file_lr}')\n",
    "                except:\n",
    "                    print('\\tfailed to find filename')\n",
    "            "
   ]
  },
  {
   "cell_type": "code",
   "execution_count": null,
   "metadata": {},
   "outputs": [],
   "source": []
  }
 ],
 "metadata": {
  "kernelspec": {
   "display_name": "Python 3",
   "language": "python",
   "name": "python3"
  },
  "language_info": {
   "codemirror_mode": {
    "name": "ipython",
    "version": 3
   },
   "file_extension": ".py",
   "mimetype": "text/x-python",
   "name": "python",
   "nbconvert_exporter": "python",
   "pygments_lexer": "ipython3",
   "version": "3.7.7"
  }
 },
 "nbformat": 4,
 "nbformat_minor": 5
}
